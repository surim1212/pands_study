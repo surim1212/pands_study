import pandas as pd


pew = pd.read_csv('../data/pew.csv')


pew.info()


pew.sample()



