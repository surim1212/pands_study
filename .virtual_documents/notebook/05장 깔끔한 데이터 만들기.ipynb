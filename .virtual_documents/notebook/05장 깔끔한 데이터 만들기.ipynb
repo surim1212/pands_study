











import pandas as pd

pew = pd.read_csv('../data/pew.csv')


print(pew.iloc[:, 0:5])





pew_long = pew.melt(id_vars='religion')
print(pew_long)


# melt() 메서드
pew_long = pew.melt(id_vars='religion')

# pd.melt() 함수
pew_long = pd.melt(pew, id_vars='religion')


pew_long = pew.melt(
    id_vars="religion", var_name="income", value_name="count"
)
print(pew_long)








billboard = pd.read_csv('../data/billboard.csv')
print(billboard.iloc[0:5, 0:16])


billboard_long = billboard.melt(
    id_vars=["year", "artist", "track", "time", "date.entered"],
    var_name="week",
    value_name="rating",
)
print(billboard_long)











ebola = pd.read_csv('../data/country_timeseries.csv')
print(ebola.columns)


print(ebola.iloc[:5, [0, 1, 2, 10]])


ebola_long = ebola.melt(id_vars=['Date', 'Day'])
print(ebola_long)








variable_split = ebola_long.variable.str.split('_')
print(variable_split[:5])


print(type(variable_split))


print(type(variable_split[0]))


status_values = variable_split.str.get(0)
country_values = variable_split.str.get(1)


print(status_values)


ebola_long['status'] = status_values
ebola_long['country'] = country_values
print(ebola_long)








ebola_long = ebola.melt(id_vars=['Date', 'Day'])


# split the column by _ into a dataframe using expand
variable_split = ebola_long.variable.str.split('_', expand=True)
print(variable_split)


ebola_long[['status', 'country']] = variable_split
print(ebola_long)








weather = pd.read_csv('../data/weather.csv')
print(weather.iloc[:5, :11])


weather_melt = weather.melt(
    id_vars=["id", "year", "month", "element"],
    var_name="day",
    value_name="temp",
)

print(weather_melt)


weather_tidy = weather_melt.pivot_table(
    index=['id', 'year', 'month', 'day'],
    columns='element',
    values='temp'
)
print(weather_tidy)


weather_tidy_flat = weather_tidy.reset_index()
print(weather_tidy_flat)


weather_tidy = (
    weather_melt
    .pivot_table(
        index=['id', 'year', 'month', 'day'],
        columns='element',
        values='temp')
    .reset_index()
)
print(weather_tidy)



