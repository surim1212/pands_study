import pandas as pd


scientists = pd.read_csv('../data/scientists.csv')


print(scientists)


ages = scientists['Age']


print(ages)


print(scientists["Age"].sample(frac=1, random_state=42))


scientists['Age']


scientists["Age"].sample(frac=1, random_state=42).values


import numpy as np


np.floor(4.6)


scientists.info()



scientists['Name']


print(scientists.dtypes)


born_datetime = pd.to_datetime(scientists['Born'], format='%Y-%m-%d')
print(born_datetime)


died_datetime = pd.to_datetime(scientists['Died'], format='%Y-%m-%d')


scientists['born_dt'], scientists['died_dt'] = (born_datetime, died_datetime)


print(scientists.head())


print(scientists.shape)


print(scientists.dtypes)


scientists['age_days'] = (scientists['died_dt'] - scientists['born_dt'])
print(scientists)


# scientists['age_years'] = (scientists['age_days'].astype('timedelta64[Y]'))  # pandas 2.0.3 오류
scientists['age_years'] = (scientists['age_days'].dt.days / 365).apply(np.floor)  # 날짜 수를 햇수로 변환

print(scientists)


scientists = scientists.assign(
    age_days_assign=scientists['died_dt'] - scientists['born_dt'],
    # age_year_assign=scientists['age_days'].astype('timedelta64[Y]'))  # pandas 2.0.3 오류
    age_year_assign=(scientists['age_days'].dt.days / 365).apply(np.floor)
)
print(scientists)
