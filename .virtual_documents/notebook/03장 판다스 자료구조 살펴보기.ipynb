








import pandas as pd

s = pd.Series(['banana', 42])
print(s)


s = pd.Series(data=['Wes McKinney', 'Creator of Pandas'], index=['Person', 'Who'])
print(s)





scientists = pd.DataFrame({
        "Name": ["Rosaline Franklin", "William Gosset"],
        "Occupation": ["Chemist", "Statistician"],
        "Born": ["1920-07-25", "1876-06-13"],
        "Died": ["1958-04-16", "1937-10-16"],
        "Age": [37, 61],
})

print(scientists)


scientists = pd.DataFrame(
    data={
        "Occupation": ["Chemist", "Statistician"],
        "Born": ["1920-07-25", "1876-06-13"],
        "Died": ["1958-04-16", "1937-10-16"],
        "Age": [37, 61],
    },
    index=["Rosaline Franklin", "William Gosset"],
    columns=["Occupation", "Born", "Died", "Age"],
)

print(scientists)








scientists = pd.DataFrame(
    data={
        "Occupation": ["Chemist", "Statistician"],
        "Born": ["1920-07-25", "1876-06-13"],
        "Died": ["1958-04-16", "1937-10-16"],
        "Age": [37, 61],
    },
    index=["Rosaline Franklin", "William Gosset"],
    columns=["Occupation", "Born", "Died", "Age"],
)

print(scientists)


first_row = scientists.loc['William Gosset']
print(type(first_row))


print(first_row)


print(first_row.index)


print(first_row.values)





print(first_row.keys())


print(first_row.index[0])


print(first_row.keys()[0])








ages = scientists['Age']
print(ages)


# 평균
print(ages.mean())


# 최솟값
print(ages.min())


# 최댓값
print(ages.max())


# 표준 편차
print(ages.std())





scientists = pd.read_csv('../data/scientists.csv')





ages = scientists['Age']
print(ages)


print(ages.describe())


print(ages.mean())


print(ages[ages > ages.mean()])


print(ages > ages.mean())


print(type(ages > ages.mean()))


manual_bool_values = [
    True,   # 0
    True,   # 1
    False,  # 2
    False,  # 3
    True,   # 4
    True,   # 5
    False,  # 6
    True,   # 7
]
print(ages[manual_bool_values])








print(ages + ages)


print(ages * ages)


print(ages + 100)


print(ages * 2)





print(ages + pd.Series([1, 100]))


import numpy as np

# print(ages + np.array([1, 100]))  # 오류





rev_ages = ages.sort_index(ascending=False)
print(rev_ages)


print(ages * 2)


print(ages + rev_ages)








scientists.index


scientists.columns


scientists.values





print(scientists.loc[scientists['Age'] > scientists['Age'].mean()])








first_half = scientists[:4]
second_half = scientists[4:]

print(first_half)


print(second_half)


print(scientists * 2)


df1 = df2 = pd.DataFrame(data=[[1, 2, 3], [4, 5, 6], [7, 8, 9]])

df_added = df1.add(df2)
print(df_added)








print(scientists.dtypes)


born_datetime = pd.to_datetime(scientists['Born'], format='%Y-%m-%d')
print(born_datetime)


died_datetime = pd.to_datetime(scientists['Died'], format='%Y-%m-%d')


scientists['born_dt'], scientists['died_dt'] = (born_datetime, died_datetime)


print(scientists.head())


print(scientists.shape)


print(scientists.dtypes)





print(scientists['Age'])


print(scientists["Age"].sample(frac=1, random_state=42))


scientists["Age"] = scientists["Age"].sample(frac=1, random_state=42)
print(scientists['Age'])


scientists["Age"] = scientists["Age"].sample(frac=1, random_state=42).values
print(scientists['Age'])


scientists['age_days'] = (scientists['died_dt'] - scientists['born_dt'])
print(scientists)


# scientists['age_years'] = (scientists['age_days'].astype('timedelta64[Y]'))  # pandas 2.0.3 오류
scientists['age_years'] = (scientists['age_days'].dt.days / 365).apply(np.floor)  # 날짜 수를 햇수로 변환

print(scientists)





scientists = scientists.assign(
    age_days_assign=scientists['died_dt'] - scientists['born_dt'],
    # age_year_assign=scientists['age_days'].astype('timedelta64[Y]'))  # pandas 2.0.3 오류
    age_year_assign=(scientists['age_days'].dt.days / 365).apply(np.floor)
)
print(scientists)





scientists = scientists.assign(
    age_days_assign=scientists["died_dt"] - scientists["born_dt"],
    # age_year_assign=lambda df_: df_["age_days_assign"].astype("timedelta64[Y]"),  # pandas 2.0.3 오류
    age_year_assign=lambda df_: (df_["age_days_assign"].dt.days / 365).apply(np.floor), 
)
print(scientists)





print(scientists.columns)


scientists_dropped = scientists.drop(['Age'], axis="columns")


print(scientists_dropped.columns)











names = scientists['Name']
print(names)


names.to_pickle('../output/scientists_names_series.pickle')


scientists.to_pickle('../output/scientists_df.pickle')





series_pickle = pd.read_pickle('../output/scientists_names_series.pickle')
print(series_pickle)


dataframe_pickle = pd.read_pickle('../output/scientists_df.pickle')
print(dataframe_pickle)





scientists.to_csv('../output/scientists_df_no_index.csv', index=False)








#!pip install openpyxl  # openpyxl이 없다면 주석을 제거하고 설치하세요.


names = scientists['Name']
print(names)


names_df = names.to_frame()


names_df.to_excel('../output/scientists_names_series_df.xls',
                  engine='openpyxl')


scientists.to_excel("../output/scientists_df.xlsx",
                    sheet_name="scientists",
                    index=False)








#!pip install pyarrow  # pyarrow가 없다면 주석을 제거하고 설치하세요.


scientists.to_feather('../output/scientists.feather')


sci_feather = pd.read_feather('../output/scientists.feather')
print(sci_feather)





sci_sub_dict = scientists.head(2)


sci_dict = sci_sub_dict.to_dict()


import pprint
pprint.pprint(sci_dict)


sci_dict_df = pd.DataFrame.from_dict(sci_dict)
print(sci_dict_df)





sci_json = sci_sub_dict.to_json(orient='records', indent=2, date_format="iso")
pprint.pprint(sci_json)


sci_json_df = pd.read_json(
    ('[\n'
 '  {\n'
 '    "Name":"Rosaline Franklin",\n'
 '    "Born":"1920-07-25",\n'
 '    "Died":"1958-04-16",\n'
 '    "Age":61,\n'
 '    "Occupation":"Chemist",\n'
 '    "born_dt":"1920-07-25T00:00:00.000",\n'
 '    "died_dt":"1958-04-16T00:00:00.000",\n'
 '    "age_days":"P13779DT0H0M0S",\n'
 '    "age_years":37.0,\n'
 '    "age_days_assign":"P13779DT0H0M0S",\n'
 '    "age_year_assign":37.0\n'
 '  },\n'
 '  {\n'
 '    "Name":"William Gosset",\n'
 '    "Born":"1876-06-13",\n'
 '    "Died":"1937-10-16",\n'
 '    "Age":45,\n'
 '    "Occupation":"Statistician",\n'
 '    "born_dt":"1876-06-13T00:00:00.000",\n'
 '    "died_dt":"1937-10-16T00:00:00.000",\n'
 '    "age_days":"P22404DT0H0M0S",\n'
 '    "age_years":61.0,\n'
 '    "age_days_assign":"P22404DT0H0M0S",\n'
 '    "age_year_assign":61.0\n'
 '  }\n'
 ']'),
     orient="records"
)
print(sci_json_df)


print(sci_json_df.dtypes)


sci_json_df["died_dt_json"] = pd.to_datetime(sci_json_df["died_dt"])
print(sci_json_df)


print(sci_json_df.dtypes)



