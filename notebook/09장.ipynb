{
 "cells": [
  {
   "cell_type": "code",
   "execution_count": 4,
   "id": "e0cfbf42-f704-41fb-a181-92b6ffe99138",
   "metadata": {},
   "outputs": [],
   "source": [
    "from numpy import NaN, NAN, nan"
   ]
  },
  {
   "cell_type": "code",
   "execution_count": 7,
   "id": "515b262d-516f-475b-8dd8-774b32a0b4e4",
   "metadata": {},
   "outputs": [
    {
     "name": "stdout",
     "output_type": "stream",
     "text": [
      "False\n",
      "False\n",
      "False\n",
      "False\n",
      "False\n",
      "False\n",
      "False\n"
     ]
    }
   ],
   "source": [
    "print(NaN == True)\n",
    "print(NaN == 0)\n",
    "print(NaN == '')\n",
    "print(NaN == NaN)\n",
    "print(NaN == NAN)\n",
    "print(NaN == nan)\n",
    "print(nan == NAN)"
   ]
  },
  {
   "cell_type": "code",
   "execution_count": 22,
   "id": "8375e900-c97e-41d7-a25f-73184e839f70",
   "metadata": {},
   "outputs": [],
   "source": [
    "import numpy as np"
   ]
  },
  {
   "cell_type": "code",
   "execution_count": 28,
   "id": "888a41c1-1a1f-4464-a89f-c14a39cb196a",
   "metadata": {
    "scrolled": true
   },
   "outputs": [
    {
     "data": {
      "text/plain": [
       "nan"
      ]
     },
     "execution_count": 28,
     "metadata": {},
     "output_type": "execute_result"
    }
   ],
   "source": [
    "np.nan"
   ]
  },
  {
   "cell_type": "code",
   "execution_count": 45,
   "id": "b70f3791",
   "metadata": {},
   "outputs": [
    {
     "name": "stdout",
     "output_type": "stream",
     "text": [
      "   ident   site       dated\n",
      "0    619   DR-1  1927-02-08\n",
      "1    622   DR-1  1927-02-10\n",
      "2    734   DR-3  1939-01-07\n",
      "3    735   DR-3  1930-01-12\n",
      "4    751   DR-3  1930-02-26\n",
      "5    752   DR-3         NaN\n",
      "6    837  MSK-4  1932-01-14\n",
      "7    844   DR-1  1932-03-22\n"
     ]
    }
   ],
   "source": [
    "visited_file = '../data/survey_visited.csv'\n",
    "print(pd.read_csv(visited_file))"
   ]
  },
  {
   "cell_type": "code",
   "execution_count": 32,
   "id": "75aba58e-9e8b-44b9-87c2-125f355a59e6",
   "metadata": {},
   "outputs": [
    {
     "data": {
      "text/plain": [
       "False"
      ]
     },
     "execution_count": 32,
     "metadata": {},
     "output_type": "execute_result"
    }
   ],
   "source": [
    "pd.notnull(NaN)"
   ]
  },
  {
   "cell_type": "code",
   "execution_count": 34,
   "id": "40e1a616-3d1b-465f-9deb-1d983551254b",
   "metadata": {},
   "outputs": [
    {
     "data": {
      "text/plain": [
       "True"
      ]
     },
     "execution_count": 34,
     "metadata": {},
     "output_type": "execute_result"
    }
   ],
   "source": [
    "pd.notnull('')"
   ]
  },
  {
   "cell_type": "code",
   "execution_count": 37,
   "id": "22fa4d74-3557-43bc-8afe-565e20e290b6",
   "metadata": {},
   "outputs": [
    {
     "data": {
      "text/plain": [
       "True"
      ]
     },
     "execution_count": 37,
     "metadata": {},
     "output_type": "execute_result"
    }
   ],
   "source": [
    "pd.isna(nan)"
   ]
  },
  {
   "cell_type": "code",
   "execution_count": 41,
   "id": "efe5a710-88d9-4221-bbd1-1184caf49d8d",
   "metadata": {},
   "outputs": [
    {
     "name": "stdout",
     "output_type": "stream",
     "text": [
      "   ident   site       dated\n",
      "0    619   DR-1  1927-02-08\n",
      "1    622   DR-1  1927-02-10\n",
      "2    734   DR-3  1939-01-07\n",
      "3    735   DR-3  1930-01-12\n",
      "4    751   DR-3  1930-02-26\n",
      "5    752   DR-3         NaN\n",
      "6    837  MSK-4  1932-01-14\n",
      "7    844   DR-1  1932-03-22\n"
     ]
    }
   ],
   "source": [
    "visited_file = '../data/survey_visited.csv'\n",
    "print(pd.read_csv(visited_file))"
   ]
  },
  {
   "cell_type": "code",
   "execution_count": 51,
   "id": "7d807b74-55af-4b11-8339-b447ca9311a9",
   "metadata": {},
   "outputs": [
    {
     "data": {
      "text/html": [
       "<div>\n",
       "<style scoped>\n",
       "    .dataframe tbody tr th:only-of-type {\n",
       "        vertical-align: middle;\n",
       "    }\n",
       "\n",
       "    .dataframe tbody tr th {\n",
       "        vertical-align: top;\n",
       "    }\n",
       "\n",
       "    .dataframe thead th {\n",
       "        text-align: right;\n",
       "    }\n",
       "</style>\n",
       "<table border=\"1\" class=\"dataframe\">\n",
       "  <thead>\n",
       "    <tr style=\"text-align: right;\">\n",
       "      <th></th>\n",
       "      <th>ident</th>\n",
       "      <th>site</th>\n",
       "      <th>dated</th>\n",
       "    </tr>\n",
       "  </thead>\n",
       "  <tbody>\n",
       "    <tr>\n",
       "      <th>0</th>\n",
       "      <td>619</td>\n",
       "      <td>DR-1</td>\n",
       "      <td>1927-02-08</td>\n",
       "    </tr>\n",
       "    <tr>\n",
       "      <th>1</th>\n",
       "      <td>622</td>\n",
       "      <td>DR-1</td>\n",
       "      <td>1927-02-10</td>\n",
       "    </tr>\n",
       "    <tr>\n",
       "      <th>2</th>\n",
       "      <td>734</td>\n",
       "      <td>DR-3</td>\n",
       "      <td>1939-01-07</td>\n",
       "    </tr>\n",
       "    <tr>\n",
       "      <th>3</th>\n",
       "      <td>735</td>\n",
       "      <td>DR-3</td>\n",
       "      <td>1930-01-12</td>\n",
       "    </tr>\n",
       "    <tr>\n",
       "      <th>4</th>\n",
       "      <td>751</td>\n",
       "      <td>DR-3</td>\n",
       "      <td>1930-02-26</td>\n",
       "    </tr>\n",
       "    <tr>\n",
       "      <th>5</th>\n",
       "      <td>752</td>\n",
       "      <td>DR-3</td>\n",
       "      <td></td>\n",
       "    </tr>\n",
       "    <tr>\n",
       "      <th>6</th>\n",
       "      <td>837</td>\n",
       "      <td>MSK-4</td>\n",
       "      <td>1932-01-14</td>\n",
       "    </tr>\n",
       "    <tr>\n",
       "      <th>7</th>\n",
       "      <td>844</td>\n",
       "      <td>DR-1</td>\n",
       "      <td>1932-03-22</td>\n",
       "    </tr>\n",
       "  </tbody>\n",
       "</table>\n",
       "</div>"
      ],
      "text/plain": [
       "   ident   site       dated\n",
       "0    619   DR-1  1927-02-08\n",
       "1    622   DR-1  1927-02-10\n",
       "2    734   DR-3  1939-01-07\n",
       "3    735   DR-3  1930-01-12\n",
       "4    751   DR-3  1930-02-26\n",
       "5    752   DR-3            \n",
       "6    837  MSK-4  1932-01-14\n",
       "7    844   DR-1  1932-03-22"
      ]
     },
     "execution_count": 51,
     "metadata": {},
     "output_type": "execute_result"
    }
   ],
   "source": [
    "pd.read_csv(visited_file, keep_default_na=False)"
   ]
  },
  {
   "cell_type": "code",
   "execution_count": 55,
   "id": "c4901a40-920e-4052-801b-1479ac1e367d",
   "metadata": {},
   "outputs": [],
   "source": [
    "data = pd.read_csv('../data/survey_visited.csv')"
   ]
  },
  {
   "cell_type": "code",
   "execution_count": 57,
   "id": "8727edea-86a1-4517-86c3-52e64035c41f",
   "metadata": {},
   "outputs": [
    {
     "data": {
      "text/plain": [
       "0   1927-02-08\n",
       "1   1927-02-10\n",
       "2   1939-01-07\n",
       "3   1930-01-12\n",
       "4   1930-02-26\n",
       "5          NaT\n",
       "6   1932-01-14\n",
       "7   1932-03-22\n",
       "Name: dated, dtype: datetime64[ns]"
      ]
     },
     "execution_count": 57,
     "metadata": {},
     "output_type": "execute_result"
    }
   ],
   "source": [
    "pd.to_datetime(data['dated'])"
   ]
  },
  {
   "cell_type": "code",
   "execution_count": 63,
   "id": "49f151c0-013a-4aa9-b99e-cbe2c2ddf17b",
   "metadata": {},
   "outputs": [],
   "source": [
    "ebola = pd.read_csv('../data/country_timeseries.csv')"
   ]
  },
  {
   "cell_type": "code",
   "execution_count": 66,
   "id": "1c6fbc89-2c48-458d-b208-774df243fde8",
   "metadata": {},
   "outputs": [
    {
     "data": {
      "text/plain": [
       "Date                   122\n",
       "Day                    122\n",
       "Cases_Guinea            93\n",
       "Cases_Liberia           83\n",
       "Cases_SierraLeone       87\n",
       "Cases_Nigeria           38\n",
       "Cases_Senegal           25\n",
       "Cases_UnitedStates      18\n",
       "Cases_Spain             16\n",
       "Cases_Mali              12\n",
       "Deaths_Guinea           92\n",
       "Deaths_Liberia          81\n",
       "Deaths_SierraLeone      87\n",
       "Deaths_Nigeria          38\n",
       "Deaths_Senegal          22\n",
       "Deaths_UnitedStates     18\n",
       "Deaths_Spain            16\n",
       "Deaths_Mali             12\n",
       "dtype: int64"
      ]
     },
     "execution_count": 66,
     "metadata": {},
     "output_type": "execute_result"
    }
   ],
   "source": [
    "ebola.count()"
   ]
  },
  {
   "cell_type": "code",
   "execution_count": 68,
   "id": "0acef2df-bce2-4449-9bf0-871c9bfb9838",
   "metadata": {},
   "outputs": [
    {
     "data": {
      "text/plain": [
       "Date                   122\n",
       "Day                    122\n",
       "Cases_Guinea            93\n",
       "Cases_Liberia           83\n",
       "Cases_SierraLeone       87\n",
       "Cases_Nigeria           38\n",
       "Cases_Senegal           25\n",
       "Cases_UnitedStates      18\n",
       "Cases_Spain             16\n",
       "Cases_Mali              12\n",
       "Deaths_Guinea           92\n",
       "Deaths_Liberia          81\n",
       "Deaths_SierraLeone      87\n",
       "Deaths_Nigeria          38\n",
       "Deaths_Senegal          22\n",
       "Deaths_UnitedStates     18\n",
       "Deaths_Spain            16\n",
       "Deaths_Mali             12\n",
       "dtype: int64"
      ]
     },
     "execution_count": 68,
     "metadata": {},
     "output_type": "execute_result"
    }
   ],
   "source": [
    "ebola.count()"
   ]
  },
  {
   "cell_type": "code",
   "execution_count": 74,
   "id": "901ce041-ca79-41a2-a3fc-85afdf2ca914",
   "metadata": {},
   "outputs": [
    {
     "data": {
      "text/plain": [
       "1214"
      ]
     },
     "execution_count": 74,
     "metadata": {},
     "output_type": "execute_result"
    }
   ],
   "source": [
    "ebola.isnull().sum().sum()"
   ]
  },
  {
   "cell_type": "code",
   "execution_count": null,
   "id": "54f020a5-be83-4682-965a-291e16bc742b",
   "metadata": {},
   "outputs": [],
   "source": []
  },
  {
   "cell_type": "code",
   "execution_count": null,
   "id": "d807bb25-cc3c-49ee-b8c8-fa67e2b0a3a8",
   "metadata": {},
   "outputs": [],
   "source": []
  }
 ],
 "metadata": {
  "kernelspec": {
   "display_name": "Python 3 (ipykernel)",
   "language": "python",
   "name": "python3"
  },
  "language_info": {
   "codemirror_mode": {
    "name": "ipython",
    "version": 3
   },
   "file_extension": ".py",
   "mimetype": "text/x-python",
   "name": "python",
   "nbconvert_exporter": "python",
   "pygments_lexer": "ipython3",
   "version": "3.12.7"
  }
 },
 "nbformat": 4,
 "nbformat_minor": 5
}
